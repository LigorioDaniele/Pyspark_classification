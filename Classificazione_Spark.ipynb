{
 "cells": [
  {
   "cell_type": "code",
   "execution_count": 1,
   "metadata": {},
   "outputs": [],
   "source": [
    "from pyspark.sql import SparkSession\n",
    "spark = SparkSession.builder.appName('classification').getOrCreate()"
   ]
  },
  {
   "cell_type": "code",
   "execution_count": 2,
   "metadata": {},
   "outputs": [
    {
     "data": {
      "text/plain": [
       "['id',\n",
       " 'diagnosis',\n",
       " 'radius_mean',\n",
       " 'texture_mean',\n",
       " 'perimeter_mean',\n",
       " 'area_mean',\n",
       " 'smoothness_mean',\n",
       " 'compactness_mean',\n",
       " 'concavity_mean',\n",
       " 'concave points_mean',\n",
       " 'symmetry_mean',\n",
       " 'fractal_dimension_mean',\n",
       " 'radius_se',\n",
       " 'texture_se',\n",
       " 'perimeter_se',\n",
       " 'area_se',\n",
       " 'smoothness_se',\n",
       " 'compactness_se',\n",
       " 'concavity_se',\n",
       " 'concave points_se',\n",
       " 'symmetry_se',\n",
       " 'fractal_dimension_se',\n",
       " 'radius_worst',\n",
       " 'texture_worst',\n",
       " 'perimeter_worst',\n",
       " 'area_worst',\n",
       " 'smoothness_worst',\n",
       " 'compactness_worst',\n",
       " 'concavity_worst',\n",
       " 'concave points_worst',\n",
       " 'symmetry_worst',\n",
       " 'fractal_dimension_worst',\n",
       " '_c32']"
      ]
     },
     "execution_count": 2,
     "metadata": {},
     "output_type": "execute_result"
    }
   ],
   "source": [
    "cancer_df= spark.read.csv(\"data.csv\",inferSchema=True, header=True)\n",
    "cancer_df.columns"
   ]
  },
  {
   "cell_type": "code",
   "execution_count": 3,
   "metadata": {},
   "outputs": [
    {
     "data": {
      "text/plain": [
       "33"
      ]
     },
     "execution_count": 3,
     "metadata": {},
     "output_type": "execute_result"
    }
   ],
   "source": [
    "len(cancer_df.columns)"
   ]
  },
  {
   "cell_type": "code",
   "execution_count": 4,
   "metadata": {},
   "outputs": [
    {
     "name": "stdout",
     "output_type": "stream",
     "text": [
      "+---------+\n",
      "|diagnosis|\n",
      "+---------+\n",
      "|        M|\n",
      "|        B|\n",
      "+---------+\n",
      "\n"
     ]
    }
   ],
   "source": [
    "cancer_df.select(\"diagnosis\").distinct().show(7)"
   ]
  },
  {
   "cell_type": "code",
   "execution_count": 5,
   "metadata": {},
   "outputs": [],
   "source": [
    "##Preprocessing dei dati"
   ]
  },
  {
   "cell_type": "code",
   "execution_count": 6,
   "metadata": {},
   "outputs": [],
   "source": [
    "features_cols=cancer_df.columns\n",
    "features_cols.remove(\"id\")\n",
    "features_cols.remove(\"diagnosis\")\n",
    "features_cols.remove(\"_c32\")"
   ]
  },
  {
   "cell_type": "code",
   "execution_count": 7,
   "metadata": {},
   "outputs": [],
   "source": [
    "from pyspark.ml.feature import VectorAssembler\n",
    "\n",
    "assembler = VectorAssembler(inputCols=features_cols,outputCol=\"features\")\n",
    "data_df= assembler.transform(cancer_df)"
   ]
  },
  {
   "cell_type": "code",
   "execution_count": 8,
   "metadata": {},
   "outputs": [
    {
     "name": "stdout",
     "output_type": "stream",
     "text": [
      "+--------------------------------------------------------------------------------------------------------------------------------------------------------------------------------------------------------------------+\n",
      "|features                                                                                                                                                                                                            |\n",
      "+--------------------------------------------------------------------------------------------------------------------------------------------------------------------------------------------------------------------+\n",
      "|[17.99,10.38,122.8,1001.0,0.1184,0.2776,0.3001,0.1471,0.2419,0.07871,1.095,0.9053,8.589,153.4,0.006399,0.04904,0.05373,0.01587,0.03003,0.006193,25.38,17.33,184.6,2019.0,0.1622,0.6656,0.7119,0.2654,0.4601,0.1189] |\n",
      "|[20.57,17.77,132.9,1326.0,0.08474,0.07864,0.0869,0.07017,0.1812,0.05667,0.5435,0.7339,3.398,74.08,0.005225,0.01308,0.0186,0.0134,0.01389,0.003532,24.99,23.41,158.8,1956.0,0.1238,0.1866,0.2416,0.186,0.275,0.08902]|\n",
      "|[19.69,21.25,130.0,1203.0,0.1096,0.1599,0.1974,0.1279,0.2069,0.05999,0.7456,0.7869,4.585,94.03,0.00615,0.04006,0.03832,0.02058,0.0225,0.004571,23.57,25.53,152.5,1709.0,0.1444,0.4245,0.4504,0.243,0.3613,0.08758]  |\n",
      "|[11.42,20.38,77.58,386.1,0.1425,0.2839,0.2414,0.1052,0.2597,0.09744,0.4956,1.156,3.445,27.23,0.00911,0.07458,0.05661,0.01867,0.05963,0.009208,14.91,26.5,98.87,567.7,0.2098,0.8663,0.6869,0.2575,0.6638,0.173]      |\n",
      "|[20.29,14.34,135.1,1297.0,0.1003,0.1328,0.198,0.1043,0.1809,0.05883,0.7572,0.7813,5.438,94.44,0.01149,0.02461,0.05688,0.01885,0.01756,0.005115,22.54,16.67,152.2,1575.0,0.1374,0.205,0.4,0.1625,0.2364,0.07678]     |\n",
      "+--------------------------------------------------------------------------------------------------------------------------------------------------------------------------------------------------------------------+\n",
      "only showing top 5 rows\n",
      "\n"
     ]
    }
   ],
   "source": [
    "data_df.select(\"features\").show(5,False)"
   ]
  },
  {
   "cell_type": "code",
   "execution_count": 9,
   "metadata": {},
   "outputs": [],
   "source": [
    "##Applichiamo la standardizzazione che trasforma i dati creando una distribuzione normale"
   ]
  },
  {
   "cell_type": "code",
   "execution_count": 10,
   "metadata": {},
   "outputs": [],
   "source": [
    "from pyspark.ml.feature import StandardScaler\n",
    "\n",
    "scaler = StandardScaler(inputCol=\"features\", outputCol=\"scaled_features\")\n",
    "scaler_model = scaler.fit(data_df)\n",
    "data_df =scaler_model.transform(data_df)"
   ]
  },
  {
   "cell_type": "code",
   "execution_count": 11,
   "metadata": {},
   "outputs": [
    {
     "name": "stdout",
     "output_type": "stream",
     "text": [
      "+---------------------------------------------------------------------------------------------------------------------------------------------------------------------------------------------------------------------------------------------------------------------------------------------------------------------------------------------------------------------------------------------------------------------------------------------------------------------------------------------------------------------------------------------------------------------------+\n",
      "|scaled_features                                                                                                                                                                                                                                                                                                                                                                                                                                                                                                                                                            |\n",
      "+---------------------------------------------------------------------------------------------------------------------------------------------------------------------------------------------------------------------------------------------------------------------------------------------------------------------------------------------------------------------------------------------------------------------------------------------------------------------------------------------------------------------------------------------------------------------------+\n",
      "|[5.104923594187837,2.4133721641714776,5.053709857386364,2.8444439054713215,8.418580863384031,5.256305689521773,3.7644345221601774,3.790959156060408,8.823868006418454,11.148152337837258,3.9486106108761705,1.6410815514298116,4.248080052459164,3.3720951704530275,2.131211243260095,2.7384134985561976,1.779960664793397,2.57200430002029,3.6327909888131,2.340451211258554,5.251134166882575,2.8196019533969903,5.493631955642322,3.546105564686363,7.103930866228769,4.2304236264285,3.412354486854729,4.037586295745454,7.436864935856287,6.583148220065578]          |\n",
      "|[5.837036038490485,4.131562943865814,5.469365146959673,3.7679646540009712,6.025257959148334,1.4890341477809517,1.0900678439710745,1.8083725627515894,6.609693603815725,8.026499720305392,1.9598811570878527,1.3303763952218477,1.680635233235096,1.6284537824456342,1.7402060862687914,0.730392507363684,0.616178454590679,2.1716986528211653,1.6803019258945704,1.3348092488560008,5.170442979921022,3.808821796250638,4.725832906587221,3.435454425223638,5.422112461400255,1.185993162096692,1.1580627110887802,2.829657313521682,4.444985562617863,4.9287792645099895] |\n",
      "|[5.587323266790357,4.940670374628506,5.350018578666346,3.4184475707112885,7.792875528943327,3.02767752072958,2.476172524739817,3.2961500751878057,7.547161184489368,8.496730513871897,2.6886612524833544,1.4264520852978226,2.267719995404036,2.067002013544317,2.04828084795274,2.236966654815687,1.2694601279524098,3.335340169780566,2.721871370239585,1.7274668959571857,4.876644299189215,4.153747136193028,4.538347092283067,3.0016317038380356,6.324337959823885,2.698039106699066,2.158904987890673,3.6968103612138106,5.839902850086669,4.849050640145864]        |\n",
      "|[3.240590741835748,4.738393516937832,3.1927264717918087,1.0971426492532241,10.132160245204597,5.375595047749392,3.028105610294791,2.711141422281135,9.473164618713817,13.800990519614565,1.7871519805938174,2.095537692977866,1.703881217920808,0.5985798663066229,3.0341200853413763,4.16457746171128,1.8753689416332442,3.025792078221728,7.213563991439398,3.4798764335974104,3.0848861476839713,4.311566749279876,2.9423368984526355,0.9970897122696624,9.188684930547444,5.506033635178801,3.2925218387702113,3.9174019259775976,10.729386968966319,9.578508343745542]|\n",
      "|[5.757581974767716,3.334080619866954,5.559903922906334,3.685558187209095,7.131618755045763,2.5145439321631535,2.483698884997385,2.6879472466152317,6.598750402484904,8.33243300768601,2.7304912826990284,1.4163006916294176,2.6896098876787673,2.0760147842085,3.8267881208092662,1.3742323857966563,1.8843134675869797,3.0549641496775344,2.1242693893958715,1.933054730435573,4.6635368054189605,2.7122195362451147,4.529419196363822,2.7662784865681136,6.01775647977702,1.3029399690772876,1.9173223693522852,2.472146846490717,3.821071225464956,4.251085957414929]   |\n",
      "+---------------------------------------------------------------------------------------------------------------------------------------------------------------------------------------------------------------------------------------------------------------------------------------------------------------------------------------------------------------------------------------------------------------------------------------------------------------------------------------------------------------------------------------------------------------------------+\n",
      "only showing top 5 rows\n",
      "\n"
     ]
    }
   ],
   "source": [
    "data_df.select(\"scaled_features\").show(5,False)"
   ]
  },
  {
   "cell_type": "code",
   "execution_count": 12,
   "metadata": {},
   "outputs": [],
   "source": [
    "##Codifichiamo il target (mappiamo maligno e benigno )"
   ]
  },
  {
   "cell_type": "code",
   "execution_count": 13,
   "metadata": {},
   "outputs": [],
   "source": [
    "from pyspark.sql.functions import when,col\n",
    "data_df= data_df.withColumn(\"label\", when(col(\"diagnosis\")=='M',1).otherwise(0))"
   ]
  },
  {
   "cell_type": "code",
   "execution_count": 14,
   "metadata": {},
   "outputs": [
    {
     "name": "stdout",
     "output_type": "stream",
     "text": [
      "+-----+---------+\n",
      "|label|diagnosis|\n",
      "+-----+---------+\n",
      "|    1|        M|\n",
      "|    1|        M|\n",
      "|    1|        M|\n",
      "|    1|        M|\n",
      "|    1|        M|\n",
      "|    1|        M|\n",
      "|    1|        M|\n",
      "|    1|        M|\n",
      "|    1|        M|\n",
      "|    1|        M|\n",
      "|    1|        M|\n",
      "|    1|        M|\n",
      "|    1|        M|\n",
      "|    1|        M|\n",
      "|    1|        M|\n",
      "|    1|        M|\n",
      "|    1|        M|\n",
      "|    1|        M|\n",
      "|    1|        M|\n",
      "|    0|        B|\n",
      "+-----+---------+\n",
      "only showing top 20 rows\n",
      "\n"
     ]
    }
   ],
   "source": [
    "data_df.select([\"label\",\"diagnosis\"]).show(20)"
   ]
  },
  {
   "cell_type": "code",
   "execution_count": 15,
   "metadata": {},
   "outputs": [],
   "source": [
    "##creazione dataframe di addestramento e di test"
   ]
  },
  {
   "cell_type": "code",
   "execution_count": 16,
   "metadata": {},
   "outputs": [],
   "source": [
    "train_df, test_df = data_df.randomSplit([0.7,0.3],seed=0)"
   ]
  },
  {
   "cell_type": "code",
   "execution_count": 17,
   "metadata": {},
   "outputs": [
    {
     "data": {
      "text/plain": [
       "397"
      ]
     },
     "execution_count": 17,
     "metadata": {},
     "output_type": "execute_result"
    }
   ],
   "source": [
    "train_df.count()"
   ]
  },
  {
   "cell_type": "code",
   "execution_count": 18,
   "metadata": {},
   "outputs": [
    {
     "data": {
      "text/plain": [
       "172"
      ]
     },
     "execution_count": 18,
     "metadata": {},
     "output_type": "execute_result"
    }
   ],
   "source": [
    "test_df.count()"
   ]
  },
  {
   "cell_type": "code",
   "execution_count": 19,
   "metadata": {},
   "outputs": [],
   "source": [
    "##creazione del modello"
   ]
  },
  {
   "cell_type": "code",
   "execution_count": 20,
   "metadata": {},
   "outputs": [],
   "source": [
    "from pyspark.ml.classification import LogisticRegression\n",
    "lr = LogisticRegression(featuresCol='scaled_features', labelCol=\"label\")\n",
    "model = lr.fit(train_df)"
   ]
  },
  {
   "cell_type": "code",
   "execution_count": 21,
   "metadata": {},
   "outputs": [],
   "source": [
    "## valutiamo il modello"
   ]
  },
  {
   "cell_type": "code",
   "execution_count": 22,
   "metadata": {},
   "outputs": [],
   "source": [
    "evaluation = model.evaluate(test_df)"
   ]
  },
  {
   "cell_type": "code",
   "execution_count": 23,
   "metadata": {},
   "outputs": [],
   "source": [
    "## valutiamo l'accuracy"
   ]
  },
  {
   "cell_type": "code",
   "execution_count": 24,
   "metadata": {},
   "outputs": [
    {
     "data": {
      "text/plain": [
       "0.9593023255813954"
      ]
     },
     "execution_count": 24,
     "metadata": {},
     "output_type": "execute_result"
    }
   ],
   "source": [
    "evaluation.accuracy"
   ]
  },
  {
   "cell_type": "code",
   "execution_count": 25,
   "metadata": {},
   "outputs": [
    {
     "data": {
      "text/plain": [
       "[0.9629629629629629, 0.953125]"
      ]
     },
     "execution_count": 25,
     "metadata": {},
     "output_type": "execute_result"
    }
   ],
   "source": [
    "evaluation.precisionByLabel"
   ]
  },
  {
   "cell_type": "code",
   "execution_count": 26,
   "metadata": {},
   "outputs": [
    {
     "data": {
      "text/plain": [
       "[0.9719626168224299, 0.9384615384615385]"
      ]
     },
     "execution_count": 26,
     "metadata": {},
     "output_type": "execute_result"
    }
   ],
   "source": [
    "evaluation.recallByLabel"
   ]
  },
  {
   "cell_type": "code",
   "execution_count": 27,
   "metadata": {},
   "outputs": [],
   "source": [
    "##testiamo il modello"
   ]
  },
  {
   "cell_type": "code",
   "execution_count": 46,
   "metadata": {},
   "outputs": [],
   "source": [
    "exams_df= spark.read.csv(\"exam_results.csv\",inferSchema=True, header=True)"
   ]
  },
  {
   "cell_type": "code",
   "execution_count": 47,
   "metadata": {},
   "outputs": [],
   "source": [
    "new_data_df= assembler.transform(exams_df)"
   ]
  },
  {
   "cell_type": "code",
   "execution_count": 48,
   "metadata": {},
   "outputs": [],
   "source": [
    "new_data_df= scaler_model.transform(new_data_df)"
   ]
  },
  {
   "cell_type": "code",
   "execution_count": 49,
   "metadata": {},
   "outputs": [],
   "source": [
    "pred_data_df = model.transform(new_data_df)"
   ]
  },
  {
   "cell_type": "code",
   "execution_count": 50,
   "metadata": {},
   "outputs": [
    {
     "data": {
      "text/plain": [
       "['id',\n",
       " 'radius_mean',\n",
       " 'texture_mean',\n",
       " 'perimeter_mean',\n",
       " 'area_mean',\n",
       " 'smoothness_mean',\n",
       " 'compactness_mean',\n",
       " 'concavity_mean',\n",
       " 'concave points_mean',\n",
       " 'symmetry_mean',\n",
       " 'fractal_dimension_mean',\n",
       " 'radius_se',\n",
       " 'texture_se',\n",
       " 'perimeter_se',\n",
       " 'area_se',\n",
       " 'smoothness_se',\n",
       " 'compactness_se',\n",
       " 'concavity_se',\n",
       " 'concave points_se',\n",
       " 'symmetry_se',\n",
       " 'fractal_dimension_se',\n",
       " 'radius_worst',\n",
       " 'texture_worst',\n",
       " 'perimeter_worst',\n",
       " 'area_worst',\n",
       " 'smoothness_worst',\n",
       " 'compactness_worst',\n",
       " 'concavity_worst',\n",
       " 'concave points_worst',\n",
       " 'symmetry_worst',\n",
       " 'fractal_dimension_worst',\n",
       " 'features',\n",
       " 'scaled_features',\n",
       " 'rawPrediction',\n",
       " 'probability',\n",
       " 'prediction']"
      ]
     },
     "execution_count": 50,
     "metadata": {},
     "output_type": "execute_result"
    }
   ],
   "source": [
    "pred_data_df.columns"
   ]
  },
  {
   "cell_type": "code",
   "execution_count": 51,
   "metadata": {},
   "outputs": [
    {
     "name": "stdout",
     "output_type": "stream",
     "text": [
      "+--------+----------------------------------------+-----------+----------+\n",
      "|id      |rawPrediction                           |probability|prediction|\n",
      "+--------+----------------------------------------+-----------+----------+\n",
      "|150010  |[256248.44161786587,-256248.44161786587]|[1.0,0.0]  |0.0       |\n",
      "|150011  |[322967.2947435423,-322967.2947435423]  |[1.0,0.0]  |0.0       |\n",
      "|91594602|[108710.36147982215,-108710.36147982215]|[1.0,0.0]  |0.0       |\n",
      "|11842302|[-1034019.646648631,1034019.646648631]  |[0.0,1.0]  |1.0       |\n",
      "+--------+----------------------------------------+-----------+----------+\n",
      "\n"
     ]
    }
   ],
   "source": [
    "pred_data_df.select([\"id\",\"rawPrediction\",\"probability\",\"prediction\"]).show(6, False)"
   ]
  }
 ],
 "metadata": {
  "kernelspec": {
   "display_name": "Python 3",
   "language": "python",
   "name": "python3"
  },
  "language_info": {
   "codemirror_mode": {
    "name": "ipython",
    "version": 3
   },
   "file_extension": ".py",
   "mimetype": "text/x-python",
   "name": "python",
   "nbconvert_exporter": "python",
   "pygments_lexer": "ipython3",
   "version": "3.8.2"
  }
 },
 "nbformat": 4,
 "nbformat_minor": 4
}
